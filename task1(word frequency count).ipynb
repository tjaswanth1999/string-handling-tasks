{
 "cells": [
  {
   "cell_type": "code",
   "execution_count": 12,
   "metadata": {},
   "outputs": [
    {
     "name": "stdout",
     "output_type": "stream",
     "text": [
      "“ With the recent uptick to the COVID-19 positive cases and many states in various phases of restarting the economy; the food service industry and the restaurant sector have been strongly impacted. DMS Coalition is proud to announce the \"Facemasks For Restaurants Donation Initiative with a target of $2M in donation”\n",
      "\n",
      "initial split\n",
      "\n",
      "['“', 'With', 'the', 'recent', 'uptick', 'to', 'the', 'COVID-19', 'positive', 'cases', 'and', 'many', 'states', 'in', 'various', 'phases', 'of', 'restarting', 'the', 'economy;', 'the', 'food', 'service', 'industry', 'and', 'the', 'restaurant', 'sector', 'have', 'been', 'strongly', 'impacted.', 'DMS', 'Coalition', 'is', 'proud', 'to', 'announce', 'the', '\"Facemasks', 'For', 'Restaurants', 'Donation', 'Initiative', 'with', 'a', 'target', 'of', '$2M', 'in', 'donation”']\n",
      "\n",
      "required data to process the task\n",
      "\n",
      "['', 'with', 'the', 'recent', 'uptick', 'to', 'the', 'covid19', 'positive', 'cases', 'and', 'many', 'states', 'in', 'various', 'phases', 'of', 'restarting', 'the', 'economy', 'the', 'food', 'service', 'industry', 'and', 'the', 'restaurant', 'sector', 'have', 'been', 'strongly', 'impacted', 'dms', 'coalition', 'is', 'proud', 'to', 'announce', 'the', 'facemasks', 'for', 'restaurants', 'donation', 'initiative', 'with', 'a', 'target', 'of', '$2m', 'in', 'donation']\n"
     ]
    }
   ],
   "source": [
    "import re\n",
    "inp_str=input()\n",
    "if len(inp_str)<10 or len(inp_str)>10000:\n",
    "    quit()\n",
    "word_split=inp_str.split()\n",
    "print(\"\\ninitial split\\n\")\n",
    "print(word_split)\n",
    "word_split_wnspc=[]\n",
    "for i in word_split:\n",
    "    s = re.sub(r\"[^a-zA-Z0-9$]\",\"\",i.lower())\n",
    "    word_split_wnspc.append(s)\n",
    "print(\"\\nrequired data to process the task\\n\")\n",
    "print(word_split_wnspc)"
   ]
  },
  {
   "cell_type": "code",
   "execution_count": 13,
   "metadata": {},
   "outputs": [
    {
     "name": "stdout",
     "output_type": "stream",
     "text": [
      "[“food”, “face”, “the”, “donation”, “coalition”, “economy”, “sector”]\n",
      "\n",
      "initial split of the given data\n",
      "\n",
      "['[“food”,', '“face”,', '“the”,', '“donation”,', '“coalition”,', '“economy”,', '“sector”]']\n",
      "\n",
      "final data to check for number of occurances/frequency of each word\n",
      "\n",
      "['food', 'face', 'the', 'donation', 'coalition', 'economy', 'sector']\n"
     ]
    }
   ],
   "source": [
    "valid_str=input()\n",
    "valid_word_split=valid_str.split()\n",
    "valid_word_split_wnspc=[]\n",
    "print(\"\\ninitial split of the given data\\n\")\n",
    "print(valid_word_split)\n",
    "for i in valid_word_split:\n",
    "    s = re.sub(r\"[^a-zA-Z0-9$]\",\"\",i.lower())\n",
    "    valid_word_split_wnspc.append(s)\n",
    "print(\"\\nfinal data to check for number of occurances/frequency of each word\\n\")\n",
    "print(valid_word_split_wnspc)\n",
    "if len(valid_word_split_wnspc)>1000:\n",
    "    quit()"
   ]
  },
  {
   "cell_type": "code",
   "execution_count": 14,
   "metadata": {},
   "outputs": [
    {
     "name": "stdout",
     "output_type": "stream",
     "text": [
      "food : 1\n",
      "face : 1\n",
      "the : 6\n",
      "donation : 2\n",
      "coalition : 1\n",
      "economy : 1\n",
      "sector : 1\n"
     ]
    }
   ],
   "source": [
    "for i in valid_word_split_wnspc:\n",
    "    count=0\n",
    "    for j in word_split_wnspc:\n",
    "        if i in j:\n",
    "            count+=1\n",
    "    print(i,\":\",count)   "
   ]
  }
 ],
 "metadata": {
  "kernelspec": {
   "display_name": "Python 3",
   "language": "python",
   "name": "python3"
  },
  "language_info": {
   "codemirror_mode": {
    "name": "ipython",
    "version": 3
   },
   "file_extension": ".py",
   "mimetype": "text/x-python",
   "name": "python",
   "nbconvert_exporter": "python",
   "pygments_lexer": "ipython3",
   "version": "3.6.9"
  }
 },
 "nbformat": 4,
 "nbformat_minor": 4
}
