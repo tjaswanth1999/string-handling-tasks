{
 "cells": [
  {
   "cell_type": "code",
   "execution_count": 12,
   "metadata": {},
   "outputs": [
    {
     "name": "stdout",
     "output_type": "stream",
     "text": [
      "[\"impolite\", \"cows\", \"undress\", \"rule\", \"illustrious\", \"beam\", \"helpless\", \"gold\", \"hair\", \"vacuous\", \"help\", \"guess\", \"squalid\", \"wonderful\", \"memorise\", \"present\", \"painful\", \"brake\", \"sand\", \"lip\", \"rainstorm\", \"talk\", \"abashed\", \"box\", \"partner\", \"chop\", \"tenuous\", \"robin\", \"trees\", \"moor\", \"hunt\", \"pack\", \"old-fashioned\"]\n",
      "\n",
      "initial split of given data\n",
      "\n",
      "['[\"impolite\",', '\"cows\",', '\"undress\",', '\"rule\",', '\"illustrious\",', '\"beam\",', '\"helpless\",', '\"gold\",', '\"hair\",', '\"vacuous\",', '\"help\",', '\"guess\",', '\"squalid\",', '\"wonderful\",', '\"memorise\",', '\"present\",', '\"painful\",', '\"brake\",', '\"sand\",', '\"lip\",', '\"rainstorm\",', '\"talk\",', '\"abashed\",', '\"box\",', '\"partner\",', '\"chop\",', '\"tenuous\",', '\"robin\",', '\"trees\",', '\"moor\",', '\"hunt\",', '\"pack\",', '\"old-fashioned\"]']\n",
      "\n",
      "processed data that is used to accomplish the task\n",
      "\n",
      "['\"impolite\"', '\"cows\"', '\"undress\"', '\"rule\"', '\"illustrious\"', '\"beam\"', '\"helpless\"', '\"gold\"', '\"hair\"', '\"vacuous\"', '\"help\"', '\"guess\"', '\"squalid\"', '\"wonderful\"', '\"memorise\"', '\"present\"', '\"painful\"', '\"brake\"', '\"sand\"', '\"lip\"', '\"rainstorm\"', '\"talk\"', '\"abashed\"', '\"box\"', '\"partner\"', '\"chop\"', '\"tenuous\"', '\"robin\"', '\"trees\"', '\"moor\"', '\"hunt\"', '\"pack\"', '\"oldfashioned\"']\n"
     ]
    }
   ],
   "source": [
    "import re\n",
    "input_array=input()\n",
    "input_split=input_array.split()\n",
    "print(\"\\ninitial split of given data\\n\")\n",
    "print(input_split)\n",
    "input_split_wnspc=[]\n",
    "for i in input_split:\n",
    "    s = re.sub(r\"[^a-zA-Z0-9\"'\"'\"]\",\"\",i.lower())\n",
    "    input_split_wnspc.append(s)\n",
    "print(\"\\nprocessed data that is used to accomplish the task\\n\")\n",
    "print(input_split_wnspc)\n",
    "if len(input_split_wnspc)>1000:\n",
    "    quit()"
   ]
  },
  {
   "cell_type": "code",
   "execution_count": 13,
   "metadata": {},
   "outputs": [
    {
     "name": "stdout",
     "output_type": "stream",
     "text": [
      "[\"cows\", \"partner\", \"wonderful\", \"rainstorm\", \"pack\", \"painful\"]\n",
      "\n",
      "initial split of the data that must be removed\n",
      "\n",
      "['[\"cows\",', '\"partner\",', '\"wonderful\",', '\"rainstorm\",', '\"pack\",', '\"painful\"]']\n",
      "\n",
      "fully processed data that can be used to complete the task\n",
      "\n",
      "['\"cows\"', '\"partner\"', '\"wonderful\"', '\"rainstorm\"', '\"pack\"', '\"painful\"']\n"
     ]
    }
   ],
   "source": [
    "rejected_items=input()\n",
    "rejected_split=rejected_items.split()\n",
    "print(\"\\ninitial split of the data that must be removed\\n\")\n",
    "print(rejected_split)\n",
    "rejected_split_wnspc=[]\n",
    "for i in rejected_split:\n",
    "    s = re.sub(r\"[^a-zA-Z0-9\"'\"'\"]\",\"\",i.lower())\n",
    "    rejected_split_wnspc.append(s)\n",
    "print(\"\\nfully processed data that can be used to complete the task\\n\")\n",
    "print(rejected_split_wnspc)\n",
    "if len(rejected_split_wnspc)>100:\n",
    "    quit()"
   ]
  },
  {
   "cell_type": "code",
   "execution_count": 14,
   "metadata": {},
   "outputs": [
    {
     "name": "stdout",
     "output_type": "stream",
     "text": [
      "['\"impolite\"', '\"undress\"', '\"rule\"', '\"illustrious\"', '\"beam\"', '\"helpless\"', '\"gold\"', '\"hair\"', '\"vacuous\"', '\"help\"', '\"guess\"', '\"squalid\"', '\"memorise\"', '\"present\"', '\"brake\"', '\"sand\"', '\"lip\"', '\"talk\"', '\"abashed\"', '\"box\"', '\"chop\"', '\"tenuous\"', '\"robin\"', '\"trees\"', '\"moor\"', '\"hunt\"', '\"oldfashioned\"']\n",
      "\n",
      "final output\n",
      "\n",
      "\"impolite\",\"undress\",\"rule\",\"illustrious\",\"beam\",\"helpless\",\"gold\",\"hair\",\"vacuous\",\"help\",\"guess\",\"squalid\",\"memorise\",\"present\",\"brake\",\"sand\",\"lip\",\"talk\",\"abashed\",\"box\",\"chop\",\"tenuous\",\"robin\",\"trees\",\"moor\",\"hunt\",\"oldfashioned\"\n"
     ]
    }
   ],
   "source": [
    "new_list=[]\n",
    "for  i in rejected_split_wnspc:\n",
    "    for j in input_split_wnspc:\n",
    "        if i==j:\n",
    "            input_split_wnspc.remove(i)\n",
    "print(input_split_wnspc)\n",
    "print(\"\\nfinal output\\n\")\n",
    "print(','.join(input_split_wnspc))"
   ]
  }
 ],
 "metadata": {
  "kernelspec": {
   "display_name": "Python 3",
   "language": "python",
   "name": "python3"
  },
  "language_info": {
   "codemirror_mode": {
    "name": "ipython",
    "version": 3
   },
   "file_extension": ".py",
   "mimetype": "text/x-python",
   "name": "python",
   "nbconvert_exporter": "python",
   "pygments_lexer": "ipython3",
   "version": "3.6.9"
  }
 },
 "nbformat": 4,
 "nbformat_minor": 4
}
